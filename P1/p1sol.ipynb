{
  "cells": [
    {
      "cell_type": "code",
      "execution_count": 1,
      "metadata": {
        "id": "NPzKxPuFTyOW"
      },
      "outputs": [],
      "source": [
        "from tensorflow import keras\n",
        "from keras.datasets import mnist\n",
        "(x_train, y_train), (x_test, y_test) = mnist.load_data()\n",
        "x_train = x_train.reshape(60000, 784)\n",
        "x_test = x_test.reshape(10000, 784)\n",
        "x_train = x_train.astype('float32')\n",
        "x_test = x_test.astype('float32')\n",
        "x_train /= 255; x_test /= 255\n",
        "num_classes=10\n",
        "y_train = keras.utils.to_categorical(y_train, num_classes)\n",
        "y_test = keras.utils.to_categorical(y_test, num_classes)"
      ]
    },
    {
      "cell_type": "code",
      "execution_count": 2,
      "metadata": {
        "colab": {
          "base_uri": "https://localhost:8080/"
        },
        "id": "5hBVqfV4VylX",
        "outputId": "2113ed09-91c1-401d-8808-84dff13f305c"
      },
      "outputs": [
        {
          "name": "stdout",
          "output_type": "stream",
          "text": [
            "Dense: 256 Batch size: 16 Test loss: 0.0588114932179451 Test accuracy: 0.9836999773979187\n",
            "Dense: 256 Batch size: 32 Test loss: 0.06114199385046959 Test accuracy: 0.9829999804496765\n",
            "Dense: 256 Batch size: 64 Test loss: 0.058347467333078384 Test accuracy: 0.9811999797821045\n",
            "Dense: 256 Batch size: 128 Test loss: 0.06542694568634033 Test accuracy: 0.9793000221252441\n",
            "Dense: 512 Batch size: 16 Test loss: 0.059876129031181335 Test accuracy: 0.9836999773979187\n",
            "Dense: 512 Batch size: 32 Test loss: 0.060003411024808884 Test accuracy: 0.9828000068664551\n",
            "Dense: 512 Batch size: 64 Test loss: 0.05814889445900917 Test accuracy: 0.9825000166893005\n",
            "Dense: 512 Batch size: 128 Test loss: 0.06635494530200958 Test accuracy: 0.978600025177002\n",
            "Dense: 1024 Batch size: 16 Test loss: 0.061417631804943085 Test accuracy: 0.983299970626831\n",
            "Dense: 1024 Batch size: 32 Test loss: 0.060545410960912704 Test accuracy: 0.9818000197410583\n",
            "Dense: 1024 Batch size: 64 Test loss: 0.05846206098794937 Test accuracy: 0.9818999767303467\n",
            "Dense: 1024 Batch size: 128 Test loss: 0.06473279744386673 Test accuracy: 0.9797000288963318\n"
          ]
        }
      ],
      "source": [
        "from keras import Sequential\n",
        "from keras.layers import Dense, Input\n",
        "from keras.optimizers import SGD\n",
        "epochs=25\n",
        "for dense in [256, 512, 1024]:\n",
        "  for batch_size in [16, 32, 64, 128]:\n",
        "    model = Sequential()\n",
        "    model.add(Input(784))\n",
        "    model.add(Dense(512, activation='relu',kernel_initializer='random_normal',bias_initializer='zeros'))\n",
        "    model.add(Dense(512, activation='relu',kernel_initializer='random_normal',bias_initializer='zeros'))\n",
        "    model.add(Dense(num_classes, activation='softmax'))\n",
        "    sgd=SGD(learning_rate=0.01, momentum=0.9)\n",
        "    model.compile(loss='categorical_crossentropy', optimizer=sgd, metrics=['accuracy'])\n",
        "    history = model.fit(x_train, y_train, batch_size=batch_size, epochs=epochs, verbose=0, validation_data=(x_test, y_test))\n",
        "    score = model.evaluate(x_test, y_test, verbose=0)\n",
        "    print('Dense:', dense,'Batch size:', batch_size, 'Test loss:', score[0], 'Test accuracy:', score[1])\n"
      ]
    }
  ],
  "metadata": {
    "accelerator": "GPU",
    "colab": {
      "gpuType": "T4",
      "provenance": []
    },
    "kernelspec": {
      "display_name": "Python 3",
      "name": "python3"
    },
    "language_info": {
      "name": "python"
    },
    "orig_nbformat": 4
  },
  "nbformat": 4,
  "nbformat_minor": 0
}
